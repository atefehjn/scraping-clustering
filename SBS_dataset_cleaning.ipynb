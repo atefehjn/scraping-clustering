{
 "cells": [
  {
   "cell_type": "code",
   "execution_count": 1,
   "metadata": {},
   "outputs": [],
   "source": [
    "import pandas as pd\n"
   ]
  },
  {
   "cell_type": "code",
   "execution_count": 2,
   "metadata": {},
   "outputs": [
    {
     "name": "stdout",
     "output_type": "stream",
     "text": [
      "shape torob1 (24, 123) \n",
      "shape torob2 (50, 283)\n",
      "shape torob (74, 405)\n"
     ]
    }
   ],
   "source": [
    "torob1 = pd.read_csv('models_data_torob1 copy.csv')\n",
    "torob2 = pd.read_csv('models_data_torob1.csv')\n",
    "print('shape torob1',torob1.shape,'\\nshape torob2',torob2.shape)\n",
    "torob = pd.merge(torob1,torob2,on ='model_code',how='outer')\n",
    "print('shape torob',torob.shape)"
   ]
  },
  {
   "cell_type": "code",
   "execution_count": 3,
   "metadata": {},
   "outputs": [
    {
     "name": "stderr",
     "output_type": "stream",
     "text": [
      "/tmp/ipykernel_108392/3344159849.py:4: PerformanceWarning: DataFrame is highly fragmented.  This is usually the result of calling `frame.insert` many times, which has poor performance.  Consider joining all columns at once using pd.concat(axis=1) instead. To get a de-fragmented frame, use `newframe = frame.copy()`\n",
      "  torob[col] = torob[col + '_x'].combine_first(torob[col + '_y'])\n",
      "/tmp/ipykernel_108392/3344159849.py:4: PerformanceWarning: DataFrame is highly fragmented.  This is usually the result of calling `frame.insert` many times, which has poor performance.  Consider joining all columns at once using pd.concat(axis=1) instead. To get a de-fragmented frame, use `newframe = frame.copy()`\n",
      "  torob[col] = torob[col + '_x'].combine_first(torob[col + '_y'])\n",
      "/tmp/ipykernel_108392/3344159849.py:4: PerformanceWarning: DataFrame is highly fragmented.  This is usually the result of calling `frame.insert` many times, which has poor performance.  Consider joining all columns at once using pd.concat(axis=1) instead. To get a de-fragmented frame, use `newframe = frame.copy()`\n",
      "  torob[col] = torob[col + '_x'].combine_first(torob[col + '_y'])\n",
      "/tmp/ipykernel_108392/3344159849.py:4: PerformanceWarning: DataFrame is highly fragmented.  This is usually the result of calling `frame.insert` many times, which has poor performance.  Consider joining all columns at once using pd.concat(axis=1) instead. To get a de-fragmented frame, use `newframe = frame.copy()`\n",
      "  torob[col] = torob[col + '_x'].combine_first(torob[col + '_y'])\n",
      "/tmp/ipykernel_108392/3344159849.py:4: PerformanceWarning: DataFrame is highly fragmented.  This is usually the result of calling `frame.insert` many times, which has poor performance.  Consider joining all columns at once using pd.concat(axis=1) instead. To get a de-fragmented frame, use `newframe = frame.copy()`\n",
      "  torob[col] = torob[col + '_x'].combine_first(torob[col + '_y'])\n",
      "/tmp/ipykernel_108392/3344159849.py:4: PerformanceWarning: DataFrame is highly fragmented.  This is usually the result of calling `frame.insert` many times, which has poor performance.  Consider joining all columns at once using pd.concat(axis=1) instead. To get a de-fragmented frame, use `newframe = frame.copy()`\n",
      "  torob[col] = torob[col + '_x'].combine_first(torob[col + '_y'])\n",
      "/tmp/ipykernel_108392/3344159849.py:4: PerformanceWarning: DataFrame is highly fragmented.  This is usually the result of calling `frame.insert` many times, which has poor performance.  Consider joining all columns at once using pd.concat(axis=1) instead. To get a de-fragmented frame, use `newframe = frame.copy()`\n",
      "  torob[col] = torob[col + '_x'].combine_first(torob[col + '_y'])\n",
      "/tmp/ipykernel_108392/3344159849.py:4: PerformanceWarning: DataFrame is highly fragmented.  This is usually the result of calling `frame.insert` many times, which has poor performance.  Consider joining all columns at once using pd.concat(axis=1) instead. To get a de-fragmented frame, use `newframe = frame.copy()`\n",
      "  torob[col] = torob[col + '_x'].combine_first(torob[col + '_y'])\n",
      "/tmp/ipykernel_108392/3344159849.py:4: PerformanceWarning: DataFrame is highly fragmented.  This is usually the result of calling `frame.insert` many times, which has poor performance.  Consider joining all columns at once using pd.concat(axis=1) instead. To get a de-fragmented frame, use `newframe = frame.copy()`\n",
      "  torob[col] = torob[col + '_x'].combine_first(torob[col + '_y'])\n",
      "/tmp/ipykernel_108392/3344159849.py:4: PerformanceWarning: DataFrame is highly fragmented.  This is usually the result of calling `frame.insert` many times, which has poor performance.  Consider joining all columns at once using pd.concat(axis=1) instead. To get a de-fragmented frame, use `newframe = frame.copy()`\n",
      "  torob[col] = torob[col + '_x'].combine_first(torob[col + '_y'])\n",
      "/tmp/ipykernel_108392/3344159849.py:4: PerformanceWarning: DataFrame is highly fragmented.  This is usually the result of calling `frame.insert` many times, which has poor performance.  Consider joining all columns at once using pd.concat(axis=1) instead. To get a de-fragmented frame, use `newframe = frame.copy()`\n",
      "  torob[col] = torob[col + '_x'].combine_first(torob[col + '_y'])\n"
     ]
    }
   ],
   "source": [
    "for col in torob1.columns:\n",
    "    if col in torob2.columns and col != 'model_code':  # Skip 'id' column and handle only common ones\n",
    "        # Combine columns with the same name, taking non-null values from both DataFrames\n",
    "        torob[col] = torob[col + '_x'].combine_first(torob[col + '_y'])\n",
    "        # Drop the redundant columns (e.g., 'name_x', 'name_y')\n",
    "        torob.drop([col + '_x', col + '_y'], axis=1, inplace=True)"
   ]
  },
  {
   "cell_type": "code",
   "execution_count": null,
   "metadata": {},
   "outputs": [
    {
     "data": {
      "text/plain": [
       "(74, 298)"
      ]
     },
     "execution_count": 6,
     "metadata": {},
     "output_type": "execute_result"
    }
   ],
   "source": [
    "torob"
   ]
  },
  {
   "cell_type": "code",
   "execution_count": 11,
   "metadata": {},
   "outputs": [],
   "source": [
    "a= digikala.columns\n",
    "with open('columns.txt','w') as f:\n",
    "    for i in a:\n",
    "        f.write(i+'\\n')\n",
    "# torob.to_csv('torob.csv',index=False)"
   ]
  },
  {
   "cell_type": "code",
   "execution_count": null,
   "metadata": {},
   "outputs": [],
   "source": []
  },
  {
   "cell_type": "code",
   "execution_count": 4,
   "metadata": {},
   "outputs": [],
   "source": [
    "digikala = pd.read_csv('models_data_digikala1.csv')\n",
    "sbs = pd.merge(torob,digikala,on ='model_code',how='outer')\n",
    "for col in digikala.columns:\n",
    "    if col in torob.columns and col != 'model_code':  # Skip 'id' column and handle only common ones\n",
    "        # Combine columns with the same name, taking non-null values from both DataFrames\n",
    "        sbs[col] = sbs[col + '_x'].combine_first(sbs[col + '_y'])\n",
    "        # Drop the redundant columns (e.g., 'name_x', 'name_y')\n",
    "        sbs.drop([col + '_x', col + '_y'], axis=1, inplace=True)"
   ]
  },
  {
   "cell_type": "code",
   "execution_count": null,
   "metadata": {},
   "outputs": [],
   "source": [
    "# sbs = sbs.rename(columns={'مصرف انرژی':'نمودار مصرف انرژی','رتبه مصرف انرژی':'نمودار مصرف انرژی','کلاس مصرف انرژی':'نمودار مصرف انرژی'})"
   ]
  },
  {
   "cell_type": "code",
   "execution_count": 5,
   "metadata": {},
   "outputs": [],
   "source": [
    "sbs.to_csv('sbs_data.csv', index=False)"
   ]
  },
  {
   "cell_type": "code",
   "execution_count": null,
   "metadata": {},
   "outputs": [],
   "source": [
    "a = sbs[['مصرف انرژی','رتبه مصرف انرژی','کلاس مصرف انرژی','نمودار مصرف انرژی']]\n",
    "a"
   ]
  },
  {
   "cell_type": "code",
   "execution_count": null,
   "metadata": {},
   "outputs": [],
   "source": [
    "sbs['energyـconsumption'] = sbs['مصرف انرژی'].fillna(sbs['رتبه مصرف انرژی']).fillna(sbs['کلاس مصرف انرژی']).fillna(sbs['نمودار مصرف انرژی']).fillna(sbs['رتبه انرژی']).fillna(sbs['کلاس انرژی']).fillna(sbs['رده انرژی'])\n",
    "sbs.drop(columns=['مصرف انرژی', 'رتبه مصرف انرژی', 'کلاس مصرف انرژی','نمودار مصرف انرژی','رتبه انرژی','رده انرژی'], inplace=True)"
   ]
  },
  {
   "cell_type": "code",
   "execution_count": null,
   "metadata": {},
   "outputs": [],
   "source": [
    "import pandas as pd\n",
    "import re\n",
    "\n",
    "# Define your regex pattern\n",
    "pattern = re.compile(r'بار')\n",
    "\n",
    "# Find columns that match the pattern\n",
    "similar_columns = [col for col in sbs.columns if pattern.search(col)]\n",
    "\n",
    "print(\"Similar columns:\", similar_columns)"
   ]
  },
  {
   "cell_type": "code",
   "execution_count": null,
   "metadata": {},
   "outputs": [],
   "source": [
    "columns_to_fill = ['بارخانگی جدید با تکنولوژِی Metal cooling', 'سامانه بار خانگی (هوم بار)', 'بار خانگی ( هوم بار )', 'نوع بار خانگی', 'هوم بار', 'محفظه هوم بار', 'مینی بار', 'محفظه بار خانگی', 'بار خانگی', 'محفظه بار']\n",
    "sbs['home_bar'] = sbs[columns_to_fill].bfill(axis=1).iloc[:, 0]\n",
    "\n",
    "a = sbs[['home_bar'] + columns_to_fill]\n",
    "sbs.drop(columns=columns_to_fill, inplace=True)"
   ]
  },
  {
   "cell_type": "code",
   "execution_count": null,
   "metadata": {},
   "outputs": [],
   "source": [
    "pattern = re.compile(r'یخساز|یخ ساز')\n",
    "\n",
    "# Find columns that match the pattern\n",
    "similar_columns = [col for col in sbs.columns if pattern.search(col)]\n",
    "\n",
    "print(\"Similar columns:\", similar_columns)"
   ]
  },
  {
   "cell_type": "code",
   "execution_count": null,
   "metadata": {},
   "outputs": [],
   "source": [
    "columns_to_fill = ['یخساز فوق باریک', 'یخساز نیمه اتوماتیک (منبع آب)', 'یخ ساز خودکار', 'یخساز اتوماتیک (آب شهری)', 'یخساز اتومات', 'یخساز اتوماتیک (متصل به آب شهری)', 'سیستم یخ ساز', 'یخساز اتوماتیک(آب شهری)', 'یخ ساز', 'یخساز و آبسرد کن خودکار', 'یخساز', 'نوع یخساز', 'یخساز اتوماتیک']\n",
    "sbs['ice_maker'] = sbs[columns_to_fill].bfill(axis=1).iloc[:, 0]\n",
    "\n",
    "a = sbs[['ice_maker'] + columns_to_fill]\n",
    "sbs.drop(columns=columns_to_fill, inplace=True)"
   ]
  },
  {
   "cell_type": "code",
   "execution_count": null,
   "metadata": {},
   "outputs": [],
   "source": [
    "sbs"
   ]
  },
  {
   "cell_type": "code",
   "execution_count": null,
   "metadata": {},
   "outputs": [],
   "source": [
    "pattern = re.compile(\n",
    "    r\"کشو\\s*.*تنظیم\\s*.*دما|تنظیم\\s*.*کشو\\s*.*دما|دما\\s*.*کشو\\s*.*تنظیم|کشو\\s*.*کنترل\\s*.*رطوبت|کنترل\\s*.*کشو\\s*.*رطوبت|رطوبت\\s*.*کشو\\s*.*کنترل\"\n",
    ")\n",
    "\n",
    "# Find columns that match the pattern\n",
    "similar_columns = [col for col in sbs.columns if pattern.search(col)]\n",
    "\n",
    "print(\"Similar columns:\", similar_columns)\n",
    "columns_to_fill = [\n",
    "    \"کشو با تنظیم دما و رطوبت\",\n",
    "    \"کشو کنترل رطوبت\",\n",
    "    \"کشو با قابلیت تنظیم دما\",\n",
    "    \"یخچال دارای کشو با تنظیم دما و رطوبت\",\n",
    "    \"دارای کشو با تنظیم دما و رطوبت\",\n",
    "]\n",
    "\n",
    "sbs[\"temperature-controlled drawer\"] = sbs[columns_to_fill].bfill(axis=1).iloc[:, 0]\n",
    "\n",
    "a = sbs[[\"temperature-controlled drawer\"] + columns_to_fill]\n",
    "sbs.drop(columns=columns_to_fill, inplace=True)"
   ]
  },
  {
   "cell_type": "code",
   "execution_count": null,
   "metadata": {},
   "outputs": [],
   "source": [
    "\n",
    "pattern = re.compile(r'^(تعداد کشو|تعداد کشو یخچال|تعداد کشوی یخچال|تعداد کشوهای یخچال)$')\n",
    "\n",
    "# Find columns that match the pattern\n",
    "similar_columns = [col for col in sbs.columns if pattern.search(col)]\n",
    "\n",
    "print(\"Similar columns:\", similar_columns)\n",
    "columns_to_fill = similar_columns\n",
    "\n",
    "sbs['numـrefrigeratorـdrawers'] = sbs[columns_to_fill].bfill(axis=1).iloc[:, 0]\n",
    "\n",
    "a = sbs[['numـrefrigeratorـdrawers'] + columns_to_fill]\n",
    "sbs.drop(columns=columns_to_fill, inplace=True)"
   ]
  },
  {
   "cell_type": "code",
   "execution_count": null,
   "metadata": {},
   "outputs": [],
   "source": [
    "pattern = re.compile(r'^(تعداد کشو)')\n",
    "\n",
    "# Find columns that match the pattern\n",
    "similar_columns = [col for col in sbs.columns if pattern.search(col)]\n",
    "\n",
    "print(\"Similar columns:\", similar_columns)\n",
    "columns_to_fill = similar_columns\n",
    "\n",
    "sbs['numberـfreezerـdrawers'] = sbs[columns_to_fill].bfill(axis=1).iloc[:, 0]\n",
    "\n",
    "a = sbs[['numberـfreezerـdrawers'] + columns_to_fill]\n",
    "sbs.drop(columns=columns_to_fill, inplace=True)"
   ]
  },
  {
   "cell_type": "code",
   "execution_count": null,
   "metadata": {},
   "outputs": [],
   "source": [
    "\n",
    "sbs"
   ]
  },
  {
   "cell_type": "code",
   "execution_count": null,
   "metadata": {},
   "outputs": [],
   "source": [
    "sbs['energyـconsumption'] = sbs['مصرف انرژی'].fillna(sbs['رتبه مصرف انرژی']).fillna(sbs['کلاس مصرف انرژی']).fillna(sbs['نمودار مصرف انرژی'])"
   ]
  },
  {
   "cell_type": "code",
   "execution_count": null,
   "metadata": {},
   "outputs": [],
   "source": [
    "threshold = 0.8\n",
    "sbs = sbs.loc[:, sbs.isnull().mean() < threshold]"
   ]
  },
  {
   "cell_type": "code",
   "execution_count": null,
   "metadata": {},
   "outputs": [],
   "source": []
  }
 ],
 "metadata": {
  "kernelspec": {
   "display_name": "env",
   "language": "python",
   "name": "python3"
  },
  "language_info": {
   "codemirror_mode": {
    "name": "ipython",
    "version": 3
   },
   "file_extension": ".py",
   "mimetype": "text/x-python",
   "name": "python",
   "nbconvert_exporter": "python",
   "pygments_lexer": "ipython3",
   "version": "3.10.12"
  }
 },
 "nbformat": 4,
 "nbformat_minor": 2
}
